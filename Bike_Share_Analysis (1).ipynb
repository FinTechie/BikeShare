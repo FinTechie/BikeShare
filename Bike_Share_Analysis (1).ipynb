{
 "cells": [
  {
   "cell_type": "markdown",
   "metadata": {},
   "source": [
    "# 2016 US Bike Share Activity Snapshot\n",
    "\n",
    "## Table of Contents\n",
    "- [Introduction](#intro)\n",
    "- [Posing Questions](#pose_questions)\n",
    "- [Data Collection and Wrangling](#wrangling)\n",
    "  - [Condensing the Trip Data](#condensing)\n",
    "- [Exploratory Data Analysis](#eda)\n",
    "  - [Statistics](#statistics)\n",
    "  - [Visualizations](#visualizations)\n",
    "- [Performing Your Own Analysis](#eda_continued)\n",
    "- [Conclusions](#conclusions)\n",
    "\n",
    "<a id='intro'></a>\n",
    "## Introduction\n",
    "\n",
    "Over the past decade, bicycle-sharing systems have been growing in number and popularity in cities across the world. Bicycle-sharing systems allow users to rent bicycles for short trips, typically 30 minutes or less. Thanks to the rise in information technologies, it is easy for a user of the system to access a dock within the system to unlock or return bicycles. These technologies also provide a wealth of data that can be used to explore how these bike-sharing systems are used.\n",
    "\n",
    "In this project, you will perform an exploratory analysis on data provided by [Motivate](https://www.motivateco.com/), a bike-share system provider for many major cities in the United States. You will compare the system usage between three large cities: New York City, Chicago, and Washington, DC. You will also see if there are any differences within each system for those users that are registered, regular users and those users that are short-term, casual users."
   ]
  },
  {
   "cell_type": "markdown",
   "metadata": {},
   "source": [
    "<a id='pose_questions'></a>\n",
    "## Posing Questions\n",
    "\n",
    "Before looking at the bike sharing data, you should start by asking questions you might want to understand about the bike share data. Consider, for example, if you were working for Motivate. What kinds of information would you want to know about in order to make smarter business decisions? If you were a user of the bike-share service, what factors might influence how you would want to use the service?\n",
    "\n",
    "**Question 1**: Write at least two questions related to bike sharing that you think could be answered by data.\n",
    "\n",
    "**Answer**: How the average bike share subscriber or customer uses their bikes. What days of the week are most used, times, seasonality, trends on how the bikeshare network is growing or contracting."
   ]
  },
  {
   "cell_type": "markdown",
   "metadata": {},
   "source": [
    "<a id='wrangling'></a>\n",
    "## Data Collection and Wrangling\n",
    "\n",
    "Now it's time to collect and explore our data. In this project, we will focus on the record of individual trips taken in 2016 from our selected cities: New York City, Chicago, and Washington, DC. Each of these cities has a page where we can freely download the trip data.:\n",
    "\n",
    "- New York City (Citi Bike): [Link](https://www.citibikenyc.com/system-data)\n",
    "- Chicago (Divvy): [Link](https://www.divvybikes.com/system-data)\n",
    "- Washington, DC (Capital Bikeshare): [Link](https://www.capitalbikeshare.com/system-data)\n",
    "\n",
    "If you visit these pages, you will notice that each city has a different way of delivering its data. Chicago updates with new data twice a year, Washington DC is quarterly, and New York City is monthly. **However, you do not need to download the data yourself.** The data has already been collected for you in the `/data/` folder of the project files. While the original data for 2016 is spread among multiple files for each city, the files in the `/data/` folder collect all of the trip data for the year into one file per city. Some data wrangling of inconsistencies in timestamp format within each city has already been performed for you. In addition, a random 2% sample of the original data is taken to make the exploration more manageable. \n",
    "\n",
    "**Question 2**: However, there is still a lot of data for us to investigate, so it's a good idea to start off by looking at one entry from each of the cities we're going to analyze. Run the first code cell below to load some packages and functions that you'll be using in your analysis. Then, complete the second code cell to print out the first trip recorded from each of the cities (the second line of each data file).\n"
   ]
  },
  {
   "cell_type": "code",
   "execution_count": 14,
   "metadata": {},
   "outputs": [],
   "source": [
    "## import all necessary packages and functions.\n",
    "import csv # read and write csv files\n",
    "from datetime import datetime # operations to parse dates\n",
    "from pprint import pprint # use to print data structures like dictionaries in\n",
    "                          # a nicer way than the base print function."
   ]
  },
  {
   "cell_type": "code",
   "execution_count": 15,
   "metadata": {},
   "outputs": [
    {
     "name": "stdout",
     "output_type": "stream",
     "text": [
      "\n",
      "City: NYC\n",
      "OrderedDict([('tripduration', '839'),\n",
      "             ('starttime', '1/1/2016 00:09:55'),\n",
      "             ('stoptime', '1/1/2016 00:23:54'),\n",
      "             ('start station id', '532'),\n",
      "             ('start station name', 'S 5 Pl & S 4 St'),\n",
      "             ('start station latitude', '40.710451'),\n",
      "             ('start station longitude', '-73.960876'),\n",
      "             ('end station id', '401'),\n",
      "             ('end station name', 'Allen St & Rivington St'),\n",
      "             ('end station latitude', '40.72019576'),\n",
      "             ('end station longitude', '-73.98997825'),\n",
      "             ('bikeid', '17109'),\n",
      "             ('usertype', 'Customer'),\n",
      "             ('birth year', ''),\n",
      "             ('gender', '0')])\n",
      "\n",
      "City: Chicago\n",
      "OrderedDict([('trip_id', '9080545'),\n",
      "             ('starttime', '3/31/2016 23:30'),\n",
      "             ('stoptime', '3/31/2016 23:46'),\n",
      "             ('bikeid', '2295'),\n",
      "             ('tripduration', '926'),\n",
      "             ('from_station_id', '156'),\n",
      "             ('from_station_name', 'Clark St & Wellington Ave'),\n",
      "             ('to_station_id', '166'),\n",
      "             ('to_station_name', 'Ashland Ave & Wrightwood Ave'),\n",
      "             ('usertype', 'Subscriber'),\n",
      "             ('gender', 'Male'),\n",
      "             ('birthyear', '1990')])\n",
      "\n",
      "City: Washington\n",
      "OrderedDict([('Duration (ms)', '427387'),\n",
      "             ('Start date', '3/31/2016 22:57'),\n",
      "             ('End date', '3/31/2016 23:04'),\n",
      "             ('Start station number', '31602'),\n",
      "             ('Start station', 'Park Rd & Holmead Pl NW'),\n",
      "             ('End station number', '31207'),\n",
      "             ('End station', 'Georgia Ave and Fairmont St NW'),\n",
      "             ('Bike number', 'W20842'),\n",
      "             ('Member Type', 'Registered')])\n"
     ]
    }
   ],
   "source": [
    "def print_first_point(filename):\n",
    "    \"\"\"\n",
    "    This function prints and returns the first data point (second row) from\n",
    "    a csv file that includes a header row.\n",
    "    \"\"\"\n",
    "    # print city name for reference\n",
    "    city = filename.split('-')[0].split('/')[-1]\n",
    "    print('\\nCity: {}'.format(city))\n",
    "\n",
    "    with open(filename, 'r') as f_in:\n",
    "        ## TODO: Use the csv library to set up a DictReader object. ##\n",
    "        ## see https://docs.python.org/3/library/csv.html           ##\n",
    "        trip_reader = csv.DictReader(f_in)\n",
    "\n",
    "        ## TODO: Use a function on the DictReader object to read the     ##\n",
    "        ## first trip from the data file and store it in a variable.     ##\n",
    "        ## see https://docs.python.org/3/library/csv.html#reader-objects ##\n",
    "        first_trip = next(trip_reader)\n",
    "\n",
    "        ## TODO: Use the pprint library to print the first trip. ##\n",
    "        ## see https://docs.python.org/3/library/pprint.html     ##\n",
    "        pprint(first_trip)\n",
    "        # output city name and first trip for later testing\n",
    "        return (city, first_trip)\n",
    "\n",
    "\n",
    "# list of files for each city\n",
    "data_files = ['NYC-CitiBike-2016.csv',\n",
    "              'Chicago-Divvy-2016.csv',\n",
    "              'Washington-CapitalBikeshare-2016.csv', ]\n",
    "\n",
    "# print the first trip from each file, store in dictionary\n",
    "example_trips = {}\n",
    "for data_file in data_files:\n",
    "    city, first_trip = print_first_point(data_file)\n",
    "    example_trips[city] = first_trip"
   ]
  },
  {
   "cell_type": "markdown",
   "metadata": {},
   "source": [
    "If everything has been filled out correctly, you should see below the printout of each city name (which has been parsed from the data file name) that the first trip has been parsed in the form of a dictionary. When you set up a `DictReader` object, the first row of the data file is normally interpreted as column names. Every other row in the data file will use those column names as keys, as a dictionary is generated for each row.\n",
    "\n",
    "This will be useful since we can refer to quantities by an easily-understandable label instead of just a numeric index. For example, if we have a trip stored in the variable `row`, then we would rather get the trip duration from `row['duration']` instead of `row[0]`.\n",
    "\n",
    "<a id='condensing'></a>\n",
    "### Condensing the Trip Data\n",
    "\n",
    "It should also be observable from the above printout that each city provides different information. Even where the information is the same, the column names and formats are sometimes different. To make things as simple as possible when we get to the actual exploration, we should trim and clean the data. Cleaning the data makes sure that the data formats across the cities are consistent, while trimming focuses only on the parts of the data we are most interested in to make the exploration easier to work with.\n",
    "\n",
    "You will generate new data files with five values of interest for each trip: trip duration, starting month, starting hour, day of the week, and user type. Each of these may require additional wrangling depending on the city:\n",
    "\n",
    "- **Duration**: This has been given to us in seconds (New York, Chicago) or milliseconds (Washington). A more natural unit of analysis will be if all the trip durations are given in terms of minutes.\n",
    "- **Month**, **Hour**, **Day of Week**: Ridership volume is likely to change based on the season, time of day, and whether it is a weekday or weekend. Use the start time of the trip to obtain these values. The New York City data includes the seconds in their timestamps, while Washington and Chicago do not. The [`datetime`](https://docs.python.org/3/library/datetime.html) package will be very useful here to make the needed conversions.\n",
    "- **User Type**: It is possible that users who are subscribed to a bike-share system will have different patterns of use compared to users who only have temporary passes. Washington divides its users into two types: 'Registered' for users with annual, monthly, and other longer-term subscriptions, and 'Casual', for users with 24-hour, 3-day, and other short-term passes. The New York and Chicago data uses 'Subscriber' and 'Customer' for these groups, respectively. For consistency, you will convert the Washington labels to match the other two.\n",
    "\n",
    "\n",
    "**Question 3a**: Complete the helper functions in the code cells below to address each of the cleaning tasks described above."
   ]
  },
  {
   "cell_type": "code",
   "execution_count": 16,
   "metadata": {
    "collapsed": true
   },
   "outputs": [],
   "source": [
    "def duration_in_mins(datum, city):\n",
    "    \"\"\"\n",
    "    Takes as input a dictionary containing info about a single trip (datum) and\n",
    "    its origin city (city) and returns the trip duration in units of minutes.\n",
    "    \n",
    "    Remember that Washington is in terms of milliseconds while Chicago and NYC\n",
    "    are in terms of seconds. \n",
    "    \n",
    "    HINT: The csv module reads in all of the data as strings, including numeric\n",
    "    values. You will need a function to convert the strings into an appropriate\n",
    "    numeric type when making your transformations.\n",
    "    see https://docs.python.org/3/library/functions.html\n",
    "    \"\"\"\n",
    "    \n",
    "    # YOUR CODE HERE\n",
    "\n",
    "    if city == 'Washington':\n",
    "        for keys, values in datum.items():\n",
    "            if keys == 'Duration (ms)':\n",
    "                duration = float(datum[keys]) / 60000\n",
    "                return duration\n",
    "\n",
    "    if city == 'Chicago':\n",
    "        for keys, values in datum.items():\n",
    "            if keys == 'tripduration':\n",
    "                duration = float(datum[keys]) / 60\n",
    "                return duration\n",
    "\n",
    "    if city == 'NYC':\n",
    "        for keys, values in datum.items():\n",
    "            if keys == 'tripduration':\n",
    "                duration = float(datum[keys]) / 60\n",
    "                return duration\n",
    "\n",
    "\n",
    "# Some tests to check that your code works. There should be no output if all of\n",
    "# the assertions pass. The `example_trips` dictionary was obtained from when\n",
    "# you printed the first trip from each of the original data files.\n",
    "tests = {'NYC': 13.9833,\n",
    "         'Chicago': 15.4333,\n",
    "         'Washington': 7.1231}\n",
    "\n",
    "for city in tests:\n",
    "    assert abs(duration_in_mins(example_trips[city], city) - tests[city]) < .001"
   ]
  },
  {
   "cell_type": "code",
   "execution_count": 17,
   "metadata": {
    "collapsed": true
   },
   "outputs": [],
   "source": [
    "def time_of_trip(datum, city):\n",
    "    \"\"\"\n",
    "    Takes as input a dictionary containing info about a single trip (datum) and\n",
    "    its origin city (city) and returns the month, hour, and day of the week in\n",
    "    which the trip was made.\n",
    "    \n",
    "    Remember that NYC includes seconds, while Washington and Chicago do not.\n",
    "    \n",
    "    HINT: You should use the datetime module to parse the original date\n",
    "    strings into a format that is useful for extracting the desired information.\n",
    "    see https://docs.python.org/3/library/datetime.html#strftime-and-strptime-behavior\n",
    "    \"\"\"\n",
    "    week = ['Monday',\n",
    "            'Tuesday',\n",
    "            'Wednesday',\n",
    "            'Thursday',\n",
    "            'Friday',\n",
    "            'Saturday',\n",
    "            'Sunday']\n",
    "    \n",
    "    # YOUR CODE HERE\n",
    "    if city == 'Washington':\n",
    "        for keys, values in datum.items():\n",
    "            if keys == 'Start date':\n",
    "                dt = datetime.strptime(values, '%m/%d/%Y %H:%M')\n",
    "                month, day, year, hour, minute, day_of_week = dt.month, dt.day, dt.year, dt.hour, dt.minute, week[dt.weekday()]\n",
    "                return month, hour, day_of_week\n",
    "\n",
    "    if city == 'Chicago':\n",
    "        for keys, values in datum.items():\n",
    "            if keys == 'starttime':\n",
    "                dt = datetime.strptime(values, '%m/%d/%Y %H:%M')\n",
    "                month, day, year, hour, minute, day_of_week = dt.month, dt.day, dt.year, dt.hour, dt.minute, week[dt.weekday()]\n",
    "                return month, hour, day_of_week\n",
    "\n",
    "    if city == 'NYC':\n",
    "        for keys, values in datum.items():\n",
    "            if keys == 'starttime':\n",
    "                dt = datetime.strptime(values, '%m/%d/%Y %H:%M:%S')\n",
    "                month, day, year, hour, minute, seconds, day_of_week = dt.month, dt.day, dt.year, dt.hour, dt.minute, dt.second, week[dt.weekday()]\n",
    "                return month, hour, day_of_week\n",
    "\n",
    "# Some tests to check that your code works. There should be no output if all of\n",
    "# the assertions pass. The `example_trips` dictionary was obtained from when\n",
    "# you printed the first trip from each of the original data files.\n",
    "tests = {'NYC': (1, 0, 'Friday'),\n",
    "         'Chicago': (3, 23, 'Thursday'),\n",
    "         'Washington': (3, 22, 'Thursday')}\n",
    "\n",
    "for city in tests:\n",
    "    assert time_of_trip(example_trips[city], city) == tests[city]"
   ]
  },
  {
   "cell_type": "code",
   "execution_count": 18,
   "metadata": {
    "collapsed": true
   },
   "outputs": [],
   "source": [
    "def type_of_user(datum, city):\n",
    "    \"\"\"\n",
    "    Takes as input a dictionary containing info about a single trip (datum) and\n",
    "    its origin city (city) and returns the type of system user that made the\n",
    "    trip.\n",
    "    \n",
    "    Remember that Washington has different category names compared to Chicago\n",
    "    and NYC. \n",
    "    \"\"\"\n",
    "    if city == 'Washington':\n",
    "        for keys, values in datum.items():\n",
    "            if keys == 'Member Type' and values == 'Registered':\n",
    "                return 'Subscriber'\n",
    "            elif keys == 'Member Type' and values == 'Casual':\n",
    "                return 'Customer'\n",
    "\n",
    "    if city == 'Chicago':\n",
    "        for keys, values in datum.items():\n",
    "            if keys == 'usertype':\n",
    "                user_type = datum[keys]\n",
    "                return user_type\n",
    "\n",
    "    if city == 'NYC':\n",
    "        for keys, values in datum.items():\n",
    "            if keys == 'usertype':\n",
    "                user_type = datum[keys]\n",
    "                return user_type\n",
    "\n",
    "# Some tests to check that your code works. There should be no output if all of\n",
    "# the assertions pass. The `example_trips` dictionary was obtained from when\n",
    "# you printed the first trip from each of the original data files.\n",
    "tests = {'NYC': 'Customer',\n",
    "         'Chicago': 'Subscriber',\n",
    "         'Washington': 'Subscriber'}\n",
    "\n",
    "for city in tests:\n",
    "    assert type_of_user(example_trips[city], city) == tests[city]"
   ]
  },
  {
   "cell_type": "markdown",
   "metadata": {},
   "source": [
    "**Question 3b**: Now, use the helper functions you wrote above to create a condensed data file for each city consisting only of the data fields indicated above. In the `/examples/` folder, you will see an example datafile from the [Bay Area Bike Share](http://www.bayareabikeshare.com/open-data) before and after conversion. Make sure that your output is formatted to be consistent with the example file."
   ]
  },
  {
   "cell_type": "code",
   "execution_count": 19,
   "metadata": {
    "collapsed": true
   },
   "outputs": [],
   "source": [
    "def condense_data(in_file, out_file, city):\n",
    "    \"\"\"\n",
    "    This function takes full data from the specified input file\n",
    "    and writes the condensed data to a specified output file. The city\n",
    "    argument determines how the input file will be parsed.\n",
    "    \n",
    "    HINT: See the cell below to see how the arguments are structured!\n",
    "    \"\"\"\n",
    "    \n",
    "    with open(out_file, 'w') as f_out, open(in_file, 'r') as f_in:\n",
    "        # set up csv DictWriter object - writer requires column names for the\n",
    "        # first row as the \"fieldnames\" argument\n",
    "        out_colnames = ['duration', 'month', 'hour', 'day_of_week', 'user_type']        \n",
    "        trip_writer = csv.DictWriter(f_out, fieldnames = out_colnames)\n",
    "        trip_writer.writeheader()\n",
    "        \n",
    "        ## TODO: set up csv DictReader object ##\n",
    "        trip_reader = csv.DictReader(f_in, delimiter = ',')\n",
    "\n",
    "        # collect data from and process each row\n",
    "        for row in trip_reader:\n",
    "            # set up a dictionary to hold the values for the cleaned and trimmed\n",
    "            # data point\n",
    "            new_point = {}\n",
    "\n",
    "            ## TODO: use the helper functions to get the cleaned data from  ##\n",
    "            ## the original data dictionaries.                              ##\n",
    "            ## Note that the keys for the new_point dictionary should match ##\n",
    "            ## the column names set in the DictWriter object above.         ##\n",
    "            new_point['duration'] = duration_in_mins(row, city)\n",
    "            new_point['month'] = time_of_trip(row, city)[0]\n",
    "            new_point['hour'] = time_of_trip(row, city)[1]\n",
    "            new_point['day_of_week'] = time_of_trip(row, city)[2]\n",
    "            new_point['user_type'] = type_of_user(row, city)\n",
    "\n",
    "            ## TODO: write the processed information to the output file.     ##\n",
    "            ## see https://docs.python.org/3/library/csv.html#writer-objects ##\n",
    "            trip_writer.writerow(new_point)"
   ]
  },
  {
   "cell_type": "code",
   "execution_count": 22,
   "metadata": {
    "scrolled": false
   },
   "outputs": [
    {
     "name": "stdout",
     "output_type": "stream",
     "text": [
      "\n",
      "City: Washington\n",
      "OrderedDict([('duration', '7.123116666666666'),\n",
      "             ('month', '3'),\n",
      "             ('hour', '22'),\n",
      "             ('day_of_week', 'Thursday'),\n",
      "             ('user_type', 'Subscriber')])\n",
      "\n",
      "City: Chicago\n",
      "OrderedDict([('duration', '15.433333333333334'),\n",
      "             ('month', '3'),\n",
      "             ('hour', '23'),\n",
      "             ('day_of_week', 'Thursday'),\n",
      "             ('user_type', 'Subscriber')])\n",
      "\n",
      "City: NYC\n",
      "OrderedDict([('duration', '13.983333333333333'),\n",
      "             ('month', '1'),\n",
      "             ('hour', '0'),\n",
      "             ('day_of_week', 'Friday'),\n",
      "             ('user_type', 'Customer')])\n"
     ]
    }
   ],
   "source": [
    "# Run this cell to check your work\n",
    "city_info = {'Washington': {'in_file': 'Washington-CapitalBikeshare-2016.csv',\n",
    "                            'out_file': 'Washington-2016-Summary.csv'},\n",
    "             'Chicago': {'in_file': 'Chicago-Divvy-2016.csv',\n",
    "                         'out_file': 'Chicago-2016-Summary.csv'},\n",
    "             'NYC': {'in_file': 'NYC-CitiBike-2016.csv',\n",
    "                     'out_file': 'NYC-2016-Summary.csv'}}\n",
    "\n",
    "for city, filenames in city_info.items():\n",
    "    condense_data(filenames['in_file'], filenames['out_file'], city)\n",
    "    print_first_point(filenames['out_file'])"
   ]
  },
  {
   "cell_type": "markdown",
   "metadata": {},
   "source": [
    "> **Tip**: If you save a jupyter Notebook, the output from running code blocks will also be saved. However, the state of your workspace will be reset once a new session is started. Make sure that you run all of the necessary code blocks from your previous session to reestablish variables and functions before picking up where you last left off.\n",
    "\n",
    "<a id='eda'></a>\n",
    "## Exploratory Data Analysis\n",
    "\n",
    "Now that you have the data collected and wrangled, you're ready to start exploring the data. In this section you will write some code to compute descriptive statistics from the data. You will also be introduced to the `matplotlib` library to create some basic histograms of the data.\n",
    "\n",
    "<a id='statistics'></a>\n",
    "### Statistics\n",
    "\n",
    "First, let's compute some basic counts. The first cell below contains a function that uses the csv module to iterate through a provided data file, returning the number of trips made by subscribers and customers. The second cell runs this function on the example Bay Area data in the `/examples/` folder. Modify the cells to answer the question below.\n",
    "\n",
    "**Question 4a**: Which city has the highest number of trips? Which city has the highest proportion of trips made by subscribers? Which city has the highest proportion of trips made by short-term customers?\n",
    "\n",
    "**Answer**: \n",
    "\n",
    "New York has the highest number of total trips with 276,081\n",
    "\n",
    "New York has the highest proportion of trips by subscribers with 89.07%\n",
    "\n",
    "Chicago has the highest proportion of trips by short term customers with 23.77% "
   ]
  },
  {
   "cell_type": "code",
   "execution_count": 23,
   "metadata": {
    "collapsed": true
   },
   "outputs": [],
   "source": [
    "def number_of_trips(filename):\n",
    "    \"\"\"\n",
    "    This function reads in a file with trip data and reports the number of\n",
    "    trips made by subscribers, customers, and total overall.\n",
    "    \"\"\"\n",
    "    with open(filename, 'r') as f_in:\n",
    "        # set up csv reader object\n",
    "        reader = csv.DictReader(f_in)\n",
    "        \n",
    "        # initialize count variables\n",
    "        n_subscribers = 0\n",
    "        n_customers = 0\n",
    "        \n",
    "        # tally up ride types\n",
    "        for row in reader:\n",
    "            if row['user_type'] == 'Subscriber':\n",
    "                n_subscribers += 1\n",
    "            elif row['user_type'] == 'Customer':\n",
    "                n_customers += 1\n",
    "        \n",
    "        # compute total number of rides\n",
    "        n_total = n_subscribers + n_customers\n",
    "        pct_subscriber = n_subscribers/n_total\n",
    "        pct_customer = n_customers/n_total\n",
    "        \n",
    "        # return tallies as a tuple\n",
    "        return(n_subscribers, pct_subscriber, n_customers, pct_customer, n_total)"
   ]
  },
  {
   "cell_type": "code",
   "execution_count": 29,
   "metadata": {},
   "outputs": [
    {
     "name": "stdout",
     "output_type": "stream",
     "text": [
      "DC       | Subscriber Trips: 51753  (0.78) | Customer Trips: 14573 (0.22) | Total: 66326\n",
      "Chicago  | Subscriber Trips: 54982  (0.76) | Customer Trips: 17149 (0.24) | Total: 72131\n",
      "New York | Subscriber Trips: 245896 (0.89) | Customer Trips: 30185 (0.11) | Total: 276081\n"
     ]
    }
   ],
   "source": [
    "## Modify this and the previous cell to answer Question 4a. Remember to run ##\n",
    "## the function on the cleaned data files you created from Question 3.      ##\n",
    "\n",
    "DCTrips = number_of_trips('Washington-2016-Summary.csv')\n",
    "ChiTrips = number_of_trips('Chicago-2016-Summary.csv')\n",
    "NYTrips = number_of_trips('NYC-2016-Summary.csv')\n",
    "\n",
    "print('DC       | Subscriber Trips: {}  ({:.2f}) | Customer Trips: {} ({:.2f}) | Total: {}'.format(DCTrips[0],DCTrips[1],DCTrips[2],DCTrips[3],DCTrips[4]))\n",
    "print('Chicago  | Subscriber Trips: {}  ({:.2f}) | Customer Trips: {} ({:.2f}) | Total: {}'.format(ChiTrips[0],ChiTrips[1],ChiTrips[2],ChiTrips[3],ChiTrips[4]))\n",
    "print('New York | Subscriber Trips: {} ({:.2f}) | Customer Trips: {} ({:.2f}) | Total: {}'.format(NYTrips[0],NYTrips[1],NYTrips[2],NYTrips[3],NYTrips[4]))"
   ]
  },
  {
   "cell_type": "markdown",
   "metadata": {},
   "source": [
    "> **Tip**: In order to add additional cells to a notebook, you can use the \"Insert Cell Above\" and \"Insert Cell Below\" options from the menu bar above. There is also an icon in the toolbar for adding new cells, with additional icons for moving the cells up and down the document. By default, new cells are of the code type; you can also specify the cell type (e.g. Code or Markdown) of selected cells from the Cell menu or the dropdown in the toolbar.\n",
    "\n",
    "Now, you will write your own code to continue investigating properties of the data.\n",
    "\n",
    "**Question 4b**: Bike-share systems are designed for riders to take short trips. Most of the time, users are allowed to take trips of 30 minutes or less with no additional charges, with overage charges made for trips of longer than that duration. What is the average trip length for each city? What proportion of rides made in each city are longer than 30 minutes?\n",
    "\n",
    "**Answer**: Avg Trip & Percent >30 Minutes\n",
    "Washington: (18.93, 10.84)\n",
    "Chicago: (16.56, 8.33)\n",
    "NYC: (15.81, 7.30)"
   ]
  },
  {
   "cell_type": "code",
   "execution_count": 38,
   "metadata": {
    "scrolled": true
   },
   "outputs": [
    {
     "name": "stdout",
     "output_type": "stream",
     "text": [
      "Washington: Avg Trip 18.93 & Percent of Trips >30 Mins 10.84\n",
      "Chicago:    Avg Trip 16.56 & Percent of Trips >30 Mins 8.33\n",
      "NYC:        Avg Trip 15.81 & Percent of Trips >30 Mins 7.30\n"
     ]
    }
   ],
   "source": [
    "## Use this and additional cells to answer Question 4b.                 ##\n",
    "##                                                                      ##\n",
    "## HINT: The csv module reads in all of the data as strings, including  ##\n",
    "## numeric values. You will need a function to convert the strings      ##\n",
    "## into an appropriate numeric type before you aggregate data.          ##\n",
    "## TIP: For the Bay Area example, the average trip length is 14 minutes ##\n",
    "## and 3.5% of trips are longer than 30 minutes.                        ##\n",
    "def average_trip(filename):\n",
    "    with open(filename, 'r') as f_in:\n",
    "    # set up csv reader object\n",
    "        reader = csv.DictReader(f_in)\n",
    "        total_dur = 0\n",
    "        trip_count = 0\n",
    "        long_trip_count = 0\n",
    "\n",
    "        for row in reader:\n",
    "            trip_count += 1\n",
    "            total_dur += float(row['duration'])\n",
    "            if float(row['duration']) > 30:\n",
    "                long_trip_count += 1\n",
    "        average_trip = total_dur/trip_count\n",
    "        pct_long_trip = (long_trip_count/trip_count)*100\n",
    "        return average_trip, pct_long_trip\n",
    "\n",
    "print('Washington: Avg Trip {:.2f} & Percent of Trips >30 Mins {:.2f}'.format(average_trip('Washington-2016-Summary.csv')[0], average_trip('Washington-2016-Summary.csv')[1]))\n",
    "print('Chicago:    Avg Trip {:.2f} & Percent of Trips >30 Mins {:.2f}'.format(average_trip('Chicago-2016-Summary.csv')[0], average_trip('Chicago-2016-Summary.csv')[1]))\n",
    "print('NYC:        Avg Trip {:.2f} & Percent of Trips >30 Mins {:.2f}'.format(average_trip('NYC-2016-Summary.csv')[0], average_trip('NYC-2016-Summary.csv')[1]))"
   ]
  },
  {
   "cell_type": "markdown",
   "metadata": {},
   "source": [
    "**Question 4c**: Dig deeper into the question of trip duration based on ridership. Choose one city. Within that city, which type of user takes longer rides on average: Subscribers or Customers?\n",
    "\n",
    "**Answer**: \n",
    "I chose Washington DC where nun subscribers take longer trips\n",
    "\n",
    "Subscriber Averages: 12.53 minutes vs NonSub Averages: 41.68 minutes"
   ]
  },
  {
   "cell_type": "code",
   "execution_count": 41,
   "metadata": {},
   "outputs": [
    {
     "name": "stdout",
     "output_type": "stream",
     "text": [
      "Subscriber Averages: 12.53 vs Customer Averages: 41.68\n"
     ]
    }
   ],
   "source": [
    "## Use this and additional cells to answer Question 4c. If you have    ##\n",
    "## not done so yet, consider revising some of your previous code to    ##\n",
    "## make use of functions for reusability.                              ##\n",
    "##                                                                     ##\n",
    "## TIP: For the Bay Area example data, you should find the average     ##\n",
    "## Subscriber trip duration to be 9.5 minutes and the average Customer ##\n",
    "## trip duration to be 54.6 minutes. Do the other cities have this     ##\n",
    "## level of difference?                                                ##\n",
    "\n",
    "def subcust_ridetimes(filename):\n",
    "    with open(filename, 'r') as f_in:\n",
    "        reader = csv.DictReader(f_in)\n",
    "        subscribers = 0\n",
    "        dursubs = 0\n",
    "        nonsub = 0\n",
    "        durnonsub = 0\n",
    "        for i in reader:\n",
    "            for k, v in i.items():\n",
    "                if k == 'user_type' and v == 'Subscriber':\n",
    "                    subscribers += 1\n",
    "                    dursubs += float(i['duration'])\n",
    "                elif k=='user_type' and v == 'Customer':\n",
    "                    nonsub += 1\n",
    "                    durnonsub += float(i['duration'])\n",
    "        return \"Subscriber Averages: {:.2f} vs Customer Averages: {:.2f}\".format(dursubs/subscribers, durnonsub/nonsub) \n",
    "\n",
    "            \n",
    "print (subcust_ridetimes('Washington-2016-Summary.csv'))"
   ]
  },
  {
   "cell_type": "markdown",
   "metadata": {},
   "source": [
    "<a id='visualizations'></a>\n",
    "### Visualizations\n",
    "\n",
    "The last set of values that you computed should have pulled up an interesting result. While the mean trip time for Subscribers is well under 30 minutes, the mean trip time for Customers is actually _above_ 30 minutes! It will be interesting for us to look at how the trip times are distributed. In order to do this, a new library will be introduced here, `matplotlib`. Run the cell below to load the library and to generate an example plot."
   ]
  },
  {
   "cell_type": "markdown",
   "metadata": {},
   "source": [
    "In the above cell, we collected fifty trip times in a list, and passed this list as the first argument to the `.hist()` function. This function performs the computations and creates plotting objects for generating a histogram, but the plot is actually not rendered until the `.show()` function is executed. The `.title()` and `.xlabel()` functions provide some labeling for plot context.\n",
    "\n",
    "You will now use these functions to create a histogram of the trip times for the city you selected in question 4c. Don't separate the Subscribers and Customers for now: just collect all of the trip times and plot them."
   ]
  },
  {
   "cell_type": "code",
   "execution_count": 47,
   "metadata": {},
   "outputs": [
    {
     "data": {
      "image/png": "[encoded data removed]",
      "text/plain": [
       "<matplotlib.figure.Figure at 0x27b63822e10>"
      ]
     },
     "metadata": {},
     "output_type": "display_data"
    }
   ],
   "source": [
    "## Use this and additional cells to collect all of the trip times as a list ##\n",
    "## and then use pyplot functions to generate a histogram of trip times.     ##\n",
    "import numpy as np\n",
    "import matplotlib.mlab as mlab\n",
    "import seaborn as sns\n",
    "%matplotlib inline \n",
    "sns.set()\n",
    "\n",
    "with open('Washington-2016-Summary.csv', 'r') as f_in:\n",
    "    reader = csv.DictReader(f_in)\n",
    "    trips = []\n",
    "    for i in reader:\n",
    "        for k, y in i.items():\n",
    "            if k =='duration':\n",
    "                trips.append(float(i['duration']))\n",
    "\n",
    "plt.hist(trips)\n",
    "plt.title('Distribution of D.C. Trip Durations')\n",
    "plt.xlabel('Duration (m)')\n",
    "plt.show()"
   ]
  },
  {
   "cell_type": "markdown",
   "metadata": {},
   "source": [
    "If you followed the use of the `.hist()` and `.show()` functions exactly like in the example, you're probably looking at a plot that's completely unexpected. The plot consists of one extremely tall bar on the left, maybe a very short second bar, and a whole lot of empty space in the center and right. Take a look at the duration values on the x-axis. This suggests that there are some highly infrequent outliers in the data. Instead of reprocessing the data, you will use additional parameters with the `.hist()` function to limit the range of data that is plotted. Documentation for the function can be found [[here]](https://matplotlib.org/devdocs/api/_as_gen/matplotlib.pyplot.hist.html#matplotlib.pyplot.hist).\n",
    "\n",
    "**Question 5**: Use the parameters of the `.hist()` function to plot the distribution of trip times for the Subscribers in your selected city. Do the same thing for only the Customers. Add limits to the plots so that only trips of duration less than 75 minutes are plotted. As a bonus, set the plots up so that bars are in five-minute wide intervals. For each group, where is the peak of each distribution? How would you describe the shape of each distribution?\n",
    "\n",
    "**Answer**:\n",
    "\n",
    "We can see that subscribers have a much narrower distribution showing more predictable behavior\n",
    "\n",
    "This is obvious based on the duration of trips that fall within 75% and the lower standard deviation"
   ]
  },
  {
   "cell_type": "code",
   "execution_count": 48,
   "metadata": {
    "collapsed": true
   },
   "outputs": [],
   "source": [
    "# This function takes a file and gets the ride durations for Subscribers.\n",
    "\n",
    "def sub_ridetimes(filename):\n",
    "    with open(filename, 'r') as f_in:\n",
    "        reader = csv.DictReader(f_in)\n",
    "        subtrips = []\n",
    "        for i in reader:\n",
    "            for k, y in i.items():\n",
    "                if k =='user_type' and y=='Subscriber':\n",
    "                    subtrips.append(float(i['duration']))\n",
    "        return subtrips"
   ]
  },
  {
   "cell_type": "code",
   "execution_count": 49,
   "metadata": {
    "collapsed": true
   },
   "outputs": [],
   "source": [
    "#This function takes a file and gets the ride durations for Customers.\n",
    "def cust_ridetimes(filename):\n",
    "    with open(filename, 'r') as f_in:\n",
    "        reader = csv.DictReader(f_in)\n",
    "        custtrips = []\n",
    "        for i in reader:\n",
    "            for k, y in i.items():\n",
    "                if k=='user_type' and y=='Customer':\n",
    "                    custtrips.append(float(i['duration']))\n",
    "        return custtrips"
   ]
  },
  {
   "cell_type": "code",
   "execution_count": 51,
   "metadata": {},
   "outputs": [
    {
     "data": {
      "image/png": "[encoded data removed]",
      "text/plain": [
       "<matplotlib.figure.Figure at 0x27b60dff3c8>"
      ]
     },
     "metadata": {},
     "output_type": "display_data"
    },
    {
     "data": {
      "text/html": [
       "<div>\n",
       "<style>\n",
       "    .dataframe thead tr:only-child th {\n",
       "        text-align: right;\n",
       "    }\n",
       "\n",
       "    .dataframe thead th {\n",
       "        text-align: left;\n",
       "    }\n",
       "\n",
       "    .dataframe tbody tr th {\n",
       "        vertical-align: top;\n",
       "    }\n",
       "</style>\n",
       "<table border=\"1\" class=\"dataframe\">\n",
       "  <thead>\n",
       "    <tr style=\"text-align: right;\">\n",
       "      <th></th>\n",
       "      <th>0</th>\n",
       "    </tr>\n",
       "  </thead>\n",
       "  <tbody>\n",
       "    <tr>\n",
       "      <th>count</th>\n",
       "      <td>51753.000000</td>\n",
       "    </tr>\n",
       "    <tr>\n",
       "      <th>mean</th>\n",
       "      <td>12.528120</td>\n",
       "    </tr>\n",
       "    <tr>\n",
       "      <th>std</th>\n",
       "      <td>24.852879</td>\n",
       "    </tr>\n",
       "    <tr>\n",
       "      <th>min</th>\n",
       "      <td>1.010550</td>\n",
       "    </tr>\n",
       "    <tr>\n",
       "      <th>25%</th>\n",
       "      <td>6.008250</td>\n",
       "    </tr>\n",
       "    <tr>\n",
       "      <th>50%</th>\n",
       "      <td>9.733217</td>\n",
       "    </tr>\n",
       "    <tr>\n",
       "      <th>75%</th>\n",
       "      <td>15.275950</td>\n",
       "    </tr>\n",
       "    <tr>\n",
       "      <th>max</th>\n",
       "      <td>1373.064333</td>\n",
       "    </tr>\n",
       "  </tbody>\n",
       "</table>\n",
       "</div>"
      ],
      "text/plain": [
       "                  0\n",
       "count  51753.000000\n",
       "mean      12.528120\n",
       "std       24.852879\n",
       "min        1.010550\n",
       "25%        6.008250\n",
       "50%        9.733217\n",
       "75%       15.275950\n",
       "max     1373.064333"
      ]
     },
     "execution_count": 51,
     "metadata": {},
     "output_type": "execute_result"
    }
   ],
   "source": [
    "#Importing Pandas so we can describe the data\n",
    "import pandas as pd\n",
    "#Creates a histogram for the duration of Subscriber trips in a city.\n",
    "#I used a range of 0 to 80 with a step of 5 and passed it through the bin edges of the histogram\n",
    "subtrips = sub_ridetimes('Washington-2016-Summary.csv')\n",
    "#Changes the subtrips into a dataframe so we can describe it\n",
    "subtrips = pd.DataFrame(subtrips)\n",
    "#Change the city variable below and it will change the name of the chart\n",
    "city = 'D.C.'\n",
    "bin_edges = list(range(0,80,5))\n",
    "\n",
    "plt.hist(subtrips, bins = bin_edges)\n",
    "plt.title('Distribution of {} Subscriber Trip Durations'.format(city))\n",
    "plt.ylabel('Num of Trips')\n",
    "plt.xlabel('Duration (m)')\n",
    "plt.show()\n",
    "\n",
    "subtrips.describe()"
   ]
  },
  {
   "cell_type": "code",
   "execution_count": 52,
   "metadata": {},
   "outputs": [
    {
     "data": {
      "image/png": "[encoded data removed]",
      "text/plain": [
       "<matplotlib.figure.Figure at 0x27b63a79f98>"
      ]
     },
     "metadata": {},
     "output_type": "display_data"
    },
    {
     "data": {
      "text/html": [
       "<div>\n",
       "<style>\n",
       "    .dataframe thead tr:only-child th {\n",
       "        text-align: right;\n",
       "    }\n",
       "\n",
       "    .dataframe thead th {\n",
       "        text-align: left;\n",
       "    }\n",
       "\n",
       "    .dataframe tbody tr th {\n",
       "        vertical-align: top;\n",
       "    }\n",
       "</style>\n",
       "<table border=\"1\" class=\"dataframe\">\n",
       "  <thead>\n",
       "    <tr style=\"text-align: right;\">\n",
       "      <th></th>\n",
       "      <th>0</th>\n",
       "    </tr>\n",
       "  </thead>\n",
       "  <tbody>\n",
       "    <tr>\n",
       "      <th>count</th>\n",
       "      <td>14573.000000</td>\n",
       "    </tr>\n",
       "    <tr>\n",
       "      <th>mean</th>\n",
       "      <td>41.678031</td>\n",
       "    </tr>\n",
       "    <tr>\n",
       "      <th>std</th>\n",
       "      <td>65.596410</td>\n",
       "    </tr>\n",
       "    <tr>\n",
       "      <th>min</th>\n",
       "      <td>1.024500</td>\n",
       "    </tr>\n",
       "    <tr>\n",
       "      <th>25%</th>\n",
       "      <td>15.581067</td>\n",
       "    </tr>\n",
       "    <tr>\n",
       "      <th>50%</th>\n",
       "      <td>24.896717</td>\n",
       "    </tr>\n",
       "    <tr>\n",
       "      <th>75%</th>\n",
       "      <td>45.666333</td>\n",
       "    </tr>\n",
       "    <tr>\n",
       "      <th>max</th>\n",
       "      <td>1422.516367</td>\n",
       "    </tr>\n",
       "  </tbody>\n",
       "</table>\n",
       "</div>"
      ],
      "text/plain": [
       "                  0\n",
       "count  14573.000000\n",
       "mean      41.678031\n",
       "std       65.596410\n",
       "min        1.024500\n",
       "25%       15.581067\n",
       "50%       24.896717\n",
       "75%       45.666333\n",
       "max     1422.516367"
      ]
     },
     "execution_count": 52,
     "metadata": {},
     "output_type": "execute_result"
    }
   ],
   "source": [
    "#Creates a histogram for the duration of Customer trips in a city. \n",
    "custtrips = cust_ridetimes('Washington-2016-Summary.csv')\n",
    "#Changes the custtrips into a dataframe so we can describe it\n",
    "custtrips = pd.DataFrame(custtrips)\n",
    "#Change the city variable below and it will change the name of the chart\n",
    "city = 'D.C.'\n",
    "bin_edges = list(range(0,80,5))\n",
    "y_axis = list(range(0,17500,2500))\n",
    "\n",
    "plt.hist(custtrips, bins = bin_edges)\n",
    "plt.title('Distribution of {} Customer Trip Durations'.format(city))\n",
    "plt.xlabel('Duration (m)')\n",
    "plt.ylabel('Num of Trips')\n",
    "plt.show()\n",
    "\n",
    "custtrips.describe()"
   ]
  },
  {
   "cell_type": "markdown",
   "metadata": {
    "collapsed": true
   },
   "source": [
    "<a id='eda_continued'></a>\n",
    "## Performing Your Own Analysis\n",
    "\n",
    "So far, you've performed an initial exploration into the data available. You have compared the relative volume of trips made between three U.S. cities and the ratio of trips made by Subscribers and Customers. For one of these cities, you have investigated differences between Subscribers and Customers in terms of how long a typical trip lasts. Now it is your turn to continue the exploration in a direction that you choose. Here are a few suggestions for questions to explore:\n",
    "\n",
    "- How does ridership differ by month or season? Which month / season has the highest ridership? Does the ratio of Subscriber trips to Customer trips change depending on the month or season?\n",
    "- Is the pattern of ridership different on the weekends versus weekdays? On what days are Subscribers most likely to use the system? What about Customers? Does the average duration of rides change depending on the day of the week?\n",
    "- During what time of day is the system used the most? Is there a difference in usage patterns for Subscribers and Customers?\n",
    "\n",
    "If any of the questions you posed in your answer to question 1 align with the bullet points above, this is a good opportunity to investigate one of them. As part of your investigation, you will need to create a visualization. If you want to create something other than a histogram, then you might want to consult the [Pyplot documentation](https://matplotlib.org/devdocs/api/pyplot_summary.html). In particular, if you are plotting values across a categorical variable (e.g. city, user type), a bar chart will be useful. The [documentation page for `.bar()`](https://matplotlib.org/devdocs/api/_as_gen/matplotlib.pyplot.bar.html#matplotlib.pyplot.bar) includes links at the bottom of the page with examples for you to build off of for your own use.\n",
    "\n",
    "**Question 6**: Continue the investigation by exploring another question that could be answered by the data available. Document the question you want to explore below. Your investigation should involve at least two variables and should compare at least two groups. You should also use at least one visualization as part of your explorations.\n",
    "\n",
    "**Answer**: \n",
    "I focused on the ride times to see the behavior of the average user.\n",
    "We can see with the pie chart that most users during the week use it during commute/rush hour times\n",
    "On the weekends we cna se that most users use it later in the day and at more random times\n",
    "\n",
    "I also setup an analysis based on summer and rest of the year trips and saw a slight difference in ride times during the summer\n",
    "I mostly set this up so I could use the code and expand upon the behavior to see monthly and seasonal data if I wanted to"
   ]
  },
  {
   "cell_type": "code",
   "execution_count": 53,
   "metadata": {
    "collapsed": true
   },
   "outputs": [],
   "source": [
    "## Use this and additional cells to continue to explore the dataset. ##\n",
    "## Once you have performed your exploration, document your findings  ##\n",
    "## in the Markdown cell above.                                       ##\n",
    "\n",
    "def dayofweek(file):\n",
    "    with open(file, 'r') as f_in:\n",
    "        reader = csv.DictReader(f_in)\n",
    "        Monday = 0\n",
    "        Tuesday = 0\n",
    "        Wednesday = 0\n",
    "        Thursday = 0\n",
    "        Friday = 0\n",
    "        Saturday = 0\n",
    "        Sunday = 0\n",
    "        for i in reader:\n",
    "            for k, y in i.items():\n",
    "                if k =='day_of_week' and y=='Monday':\n",
    "                    Monday += 1\n",
    "                elif k =='day_of_week' and y=='Tuesday':\n",
    "                    Tuesday += 1\n",
    "                elif k =='day_of_week' and y=='Wednesday':\n",
    "                    Wednesday += 1\n",
    "                elif k =='day_of_week' and y=='Thursday':\n",
    "                    Thursday += 1\n",
    "                elif k =='day_of_week' and y=='Friday':\n",
    "                    Friday += 1\n",
    "                elif k =='day_of_week' and y=='Saturday':\n",
    "                    Saturday += 1\n",
    "                elif k =='day_of_week' and y=='Sunday':\n",
    "                    Sunday += 1\n",
    "\n",
    "    week = ['Mon','Tue','Wed','Thur','Fri','Sat','Sun']\n",
    "    weeklist = [Monday, Tuesday, Wednesday, Thursday, Friday, Saturday, Sunday]\n",
    "    ind = np.arange(len(week))\n",
    "    return week, weeklist, ind"
   ]
  },
  {
   "cell_type": "code",
   "execution_count": 54,
   "metadata": {},
   "outputs": [
    {
     "data": {
      "image/png": "[encoded data removed]",
      "text/plain": [
       "<matplotlib.figure.Figure at 0x27b63ac9dd8>"
      ]
     },
     "metadata": {},
     "output_type": "display_data"
    }
   ],
   "source": [
    "import numpy as np\n",
    "import matplotlib.mlab as mlab\n",
    "import matplotlib.pyplot as plt\n",
    "%matplotlib inline \n",
    "city = 'D.C.'\n",
    "\n",
    "barinfo = dayofweek('Washington-2016-Summary.csv')\n",
    "plt.title('Distribution of {} Trip Durations by Day of the Week'.format(city))\n",
    "week = barinfo[0]\n",
    "weeklist = barinfo[1]\n",
    "ind = barinfo[2]\n",
    "\n",
    "plt.bar(ind, weeklist)\n",
    "plt.xticks(ind, week)\n",
    "plt.show()\n",
    "#plt.xticks(week)\n",
    "#plt.ylabel('Trips')\n",
    "#plt.title('Trips by day of week')"
   ]
  },
  {
   "cell_type": "code",
   "execution_count": 55,
   "metadata": {
    "collapsed": true
   },
   "outputs": [],
   "source": [
    "#The below function shows the average trip length for the summer months and during the rest of the year\n",
    "def summeryeartrips(file, city):\n",
    "    with open(file, 'r') as f_in:\n",
    "        sumcusttrips = 0\n",
    "        sumcustnum = 0\n",
    "        yearcusttrips = 0\n",
    "        yearcustnum = 0\n",
    "        reader = csv.DictReader(f_in)\n",
    "        for i in reader:\n",
    "            if i['month'] in('6', '7', '8'):\n",
    "                sumcusttrips += float(i['duration'])\n",
    "                sumcustnum += 1\n",
    "            elif i['month'] in ('1', '2', '3', '4', '5', '9', '10', '11', '12'):\n",
    "                yearcusttrips += float(i['duration'])\n",
    "                yearcustnum += 1\n",
    "    \n",
    "        avgyeartrip = yearcusttrips/yearcustnum\n",
    "        avgsumtrip = sumcusttrips/sumcustnum\n",
    "            \n",
    "        print('The average {} trip for the summer (June - Aug) for is {} minutes long'.format(city, avgsumtrip))\n",
    "        print('The average {} trip during the rest of the year for is {} minutes long'.format(city, avgyeartrip))"
   ]
  },
  {
   "cell_type": "code",
   "execution_count": 56,
   "metadata": {
    "scrolled": true
   },
   "outputs": [
    {
     "name": "stdout",
     "output_type": "stream",
     "text": [
      "The average DC trip for the summer (June - Aug) for is 16.156967648442237 minutes long\n",
      "The average DC trip during the rest of the year for is 15.652430441610102 minutes long\n"
     ]
    }
   ],
   "source": [
    "summeryeartrips('NYC-2016-Summary.csv', 'DC')"
   ]
  },
  {
   "cell_type": "code",
   "execution_count": 57,
   "metadata": {
    "collapsed": true
   },
   "outputs": [],
   "source": [
    "#This function shows the duration of a trip by day of the week\n",
    "def weekridedurs(file):\n",
    "    with open(file, 'r') as f_in:\n",
    "        reader = csv.DictReader(f_in)\n",
    "        weekdayrides = []\n",
    "        weekendrides = []\n",
    "        for i in reader:\n",
    "            for k, y in i.items():\n",
    "                if k =='day_of_week' and (y=='Monday'\n",
    "                or y=='Tuesday'\n",
    "                or y=='Wednesday'\n",
    "                or y=='Thursday'\n",
    "                or y=='Friday'):\n",
    "                    weekdayrides.append(float(i['duration']))\n",
    "                elif k=='day_of_week' and (y=='Saturday' or y=='Sunday'):\n",
    "                    weekendrides.append(float(i['duration']))\n",
    "\n",
    "    avgweekdayride = np.mean(weekdayrides)\n",
    "    avgweekendride = np.mean(weekendrides)\n",
    "    return avgweekdayride, avgweekendride"
   ]
  },
  {
   "cell_type": "code",
   "execution_count": 59,
   "metadata": {},
   "outputs": [
    {
     "name": "stdout",
     "output_type": "stream",
     "text": [
      "Average D.C. weekday ride is: 17.02673047724547\n",
      "Average D.C. weekend ride is: 24.408457928027868\n"
     ]
    }
   ],
   "source": [
    "#This prints out the avearge weekday and weekend ride\n",
    "#Adjust city below\n",
    "city = 'D.C.'\n",
    "print('Average {} weekday ride is: {}'.format(city, weekridedurs('Washington-2016-Summary.csv')[0]))\n",
    "print('Average {} weekend ride is: {}'.format(city, weekridedurs('Washington-2016-Summary.csv')[1]))"
   ]
  },
  {
   "cell_type": "code",
   "execution_count": 60,
   "metadata": {
    "collapsed": true
   },
   "outputs": [],
   "source": [
    "#This creates a pie chart for weekday ride times so we can examine morning commute, afternoon commute, and other trips\n",
    "#city defined when function called\n",
    "#Function prints the total trips by category and the average trip per day\n",
    "def weekdaytrips(file, city):\n",
    "    with open(file, 'r') as f_in:\n",
    "        weekdayamtrips = 0\n",
    "        weekdaypmtrips = 0\n",
    "        weekdayothertrips = 0\n",
    "        reader = csv.DictReader(f_in)\n",
    "        for i in reader:\n",
    "            if i['day_of_week'] in ('Monday', 'Tuesday', 'Wednesday', 'Thursday', 'Friday') and i['hour'] in('6', '7', '8', '9'):\n",
    "                weekdayamtrips += 1\n",
    "            elif i['day_of_week'] in ('Monday', 'Tuesday', 'Wednesday', 'Thursday', 'Friday') and i['hour'] in ('16','17', '18', '19'):\n",
    "                weekdaypmtrips += 1\n",
    "            elif i['day_of_week'] in ('Monday', 'Tuesday', 'Wednesday', 'Thursday', 'Friday') and i['hour'] not in ('6', '7', '8', '9', '16','17', '18', '19'):\n",
    "                weekdayothertrips += 1\n",
    "        totalweekdaytrips = weekdaypmtrips + weekdayamtrips + weekdayothertrips\n",
    "        weekdaytripsperday = totalweekdaytrips / 5\n",
    "        \n",
    "        print('During the Week:\\n6AM - 9AM Trips: {}\\n4PM - 7PM Trips: {}\\n    Other Trips: {}'.format(weekdayamtrips, weekdaypmtrips, weekdayothertrips))\n",
    "        print('  Trips per day: {}'.format(weekdaytripsperday))\n",
    "\n",
    "        labels = ['6AM - 9AM', '4PM - 7PM', 'Other Times']\n",
    "        x_list = [weekdayamtrips, weekdaypmtrips, weekdayothertrips]\n",
    "        plt.pie(x_list, labels = labels, autopct=\"%1.1f%%\")\n",
    "        plt.title('{} Weekday Riding Times'.format(city))\n",
    "        plt.show()"
   ]
  },
  {
   "cell_type": "code",
   "execution_count": 61,
   "metadata": {
    "collapsed": true
   },
   "outputs": [],
   "source": [
    "#This creates a pie chart for weekend ride times so we can examine morning commute, afternoon commute, and other trips\n",
    "#city defined when function called\n",
    "#Function prints the total trips by category and the average trip per day\n",
    "def weekendtrips(file, city):\n",
    "    with open(file, 'r') as f_in:\n",
    "        weekendamtrips = 0\n",
    "        weekendpmtrips = 0\n",
    "        weekendothertrips = 0\n",
    "        reader = csv.DictReader(f_in)\n",
    "        for i in reader:\n",
    "            if i['day_of_week'] in ('Saturday', 'Sunday') and i['hour'] in('6', '7', '8', '9'):\n",
    "                weekendamtrips += 1\n",
    "            elif i['day_of_week'] in ('Saturday', 'Sunday') and i['hour'] in ('16','17', '18', '19'):\n",
    "                weekendpmtrips += 1\n",
    "            elif i['day_of_week'] in ('Saturday', 'Sunday') and i['hour'] not in ('6', '7', '8', '9', '16','17', '18', '19'):\n",
    "                weekendothertrips += 1\n",
    "        totalweekendtrips = weekendamtrips+weekendpmtrips+weekendothertrips\n",
    "        weekendtripsperday = totalweekendtrips/2\n",
    "        \n",
    "        print('During Weekends: \\n6AM - 9AM Trips: {} \\n4PM - 7PM Trips: {} \\n    Other Trips: {}'.format(weekendamtrips, weekendpmtrips, weekendothertrips))\n",
    "        print('  Trips per day: {}'.format(weekendtripsperday))\n",
    "        \n",
    "        labels = ['6AM - 9AM', '4PM - 7PM', 'Other Times']\n",
    "        x_list2 = [weekendamtrips, weekendpmtrips, weekendothertrips]\n",
    "        plt.pie(x_list2, labels = labels, autopct=\"%1.1f%%\")\n",
    "        plt.title('{} Weekend Riding Times'.format(city))\n",
    "        plt.show()"
   ]
  },
  {
   "cell_type": "code",
   "execution_count": 62,
   "metadata": {},
   "outputs": [
    {
     "name": "stdout",
     "output_type": "stream",
     "text": [
      "During the Week:\n",
      "6AM - 9AM Trips: 12603\n",
      "4PM - 7PM Trips: 18308\n",
      "    Other Trips: 18288\n",
      "  Trips per day: 9839.8\n"
     ]
    },
    {
     "data": {
      "image/png": "[encoded data removed]",
      "text/plain": [
       "<matplotlib.figure.Figure at 0x27b63c38860>"
      ]
     },
     "metadata": {},
     "output_type": "display_data"
    },
    {
     "name": "stdout",
     "output_type": "stream",
     "text": [
      "During Weekends: \n",
      "6AM - 9AM Trips: 1513 \n",
      "4PM - 7PM Trips: 4695 \n",
      "    Other Trips: 10919\n",
      "  Trips per day: 8563.5\n"
     ]
    },
    {
     "data": {
      "image/png": "[encoded data removed]",
      "text/plain": [
       "<matplotlib.figure.Figure at 0x27b63cccdd8>"
      ]
     },
     "metadata": {},
     "output_type": "display_data"
    }
   ],
   "source": [
    "#Define the city after the file here also\n",
    "weekdaytrips('Washington-2016-Summary.csv', 'DC')\n",
    "weekendtrips('Washington-2016-Summary.csv', 'DC')"
   ]
  },
  {
   "cell_type": "markdown",
   "metadata": {},
   "source": [
    "<a id='conclusions'></a>\n",
    "## Conclusions\n",
    "\n",
    "Congratulations on completing the project! This is only a sampling of the data analysis process: from generating questions, wrangling the data, and to exploring the data. Normally, at this point in the data analysis process, you might want to draw conclusions about the data by performing a statistical test or fitting the data to a model for making predictions. There are also a lot of potential analyses that could be performed on the data which are not possible with only the data provided. For example, detailed location data has not been investigated. Where are the most commonly used docks? What are the most common routes? As another example, weather has potential to have a large impact on daily ridership. How much is ridership impacted when there is rain or snow? Are subscribers or customers affected more by changes in weather?\n",
    "\n",
    "**Question 7**: Putting the bike share data aside, think of a topic or field of interest where you would like to be able to apply the techniques of data science. What would you like to be able to learn from your chosen subject?\n",
    "\n",
    "**Answer**: In the book the \"The Inevtitable\" By Kevin Kelly (creator of Wired magazine) he talks about how machine learning is adapting the internet into an ever changing customized experience that we will tap into with our devices. I want to use data science to explore how the internet is shaping the paradigm of the world we each see and how we experience it. I would like to learn how the different feeds of the internet differs from generation to generation, area to area, and person to person. This is going to be increasingly important and I want to start learning about this now so I can evolve with this to get a better grasp of how our worlds are being shaped. I would study social media platforms, google searches, advertising, or local and regional sites and digital publications.\n",
    "\n",
    "> **Tip**: If we want to share the results of our analysis with others, we aren't limited to giving them a copy of the jupyter Notebook (.ipynb) file. We can also export the Notebook output in a form that can be opened even for those without Python installed. From the **File** menu in the upper left, go to the **Download as** submenu. You can then choose a different format that can be viewed more generally, such as HTML (.html) or\n",
    "PDF (.pdf). You may need additional packages or software to perform these exports."
   ]
  }
 ],
 "metadata": {
  "anaconda-cloud": {},
  "kernelspec": {
   "display_name": "Python 3",
   "language": "python",
   "name": "python3"
  },
  "language_info": {
   "codemirror_mode": {
    "name": "ipython",
    "version": 3
   },
   "file_extension": ".py",
   "mimetype": "text/x-python",
   "name": "python",
   "nbconvert_exporter": "python",
   "pygments_lexer": "ipython3",
   "version": "3.6.2"
  }
 },
 "nbformat": 4,
 "nbformat_minor": 1
}
